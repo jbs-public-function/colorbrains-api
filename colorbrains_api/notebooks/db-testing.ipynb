{
 "cells": [
  {
   "cell_type": "code",
   "execution_count": 17,
   "source": [
    "import os\n",
    "import csv\n",
    "os.environ['POSTGRES_USER'] = 'colorbrains'\n",
    "os.environ['POSTGRES_PASSWORD'] = 'colorbrains'\n",
    "os.environ['POSTGRES_DB'] = 'colorbrains'\n",
    "os.environ['POSTGRES_PORT'] = '5432'\n",
    "os.environ['POSTGRES_HOST'] = 'localhost'\n",
    "datapath = os.path.join('..', 'sql', 'data')\n",
    "if not os.path.exists(datapath):\n",
    "    os.makedirs(datapath)"
   ],
   "outputs": [],
   "metadata": {}
  },
  {
   "cell_type": "code",
   "execution_count": 18,
   "source": [
    "from colorbrains_api.db_assistant import DbAssistant\n",
    "import matplotlib.pyplot as plt\n",
    "from matplotlib import colors\n"
   ],
   "outputs": [],
   "metadata": {}
  },
  {
   "cell_type": "code",
   "execution_count": 19,
   "source": [
    "def write_data(filename, records, columns):\n",
    "    with open(os.path.join(datapath, filename), 'w') as file:\n",
    "        writer = csv.writer(file)\n",
    "        writer.writerow(columns)\n",
    "        writer.writerows(records)\n"
   ],
   "outputs": [],
   "metadata": {}
  },
  {
   "cell_type": "code",
   "execution_count": 20,
   "source": [
    "basecolor_records = []\n",
    "basecolor_column_names = ('color_name', 'red', 'green', 'blue')\n",
    "for color_name, (red, green, blue) in colors.BASE_COLORS.items():\n",
    "    basecolor_records.append((color_name, red, green, blue))\n",
    "\n",
    "write_data('basecolors.csv', basecolor_column_names, basecolor_records)\n"
   ],
   "outputs": [],
   "metadata": {}
  },
  {
   "cell_type": "code",
   "execution_count": 21,
   "source": [
    "from colorbrains_api.categorized_colormaps import MplCategorizedColormaps\n",
    "categorized_colormaps = []\n",
    "categorized_colormaps_column_names = ('categorical_name', 'colormap_name', 'cmap_n_total')\n",
    "\n",
    "for cmap_category in MplCategorizedColormaps:\n",
    "    for value in cmap_category.value:\n",
    "        cmap = plt.get_cmap(value)\n",
    "        categorized_colormaps.append(tuple([cmap_category.name, value, cmap.N]))\n",
    "\n",
    "write_data('categorized_colormaps.csv', categorized_colormaps, categorized_colormaps_column_names)\n"
   ],
   "outputs": [],
   "metadata": {}
  },
  {
   "cell_type": "code",
   "execution_count": 22,
   "source": [
    "colormaps = []\n",
    "colormaps_column_names = ('colormap_name', 'cmap_n_observation', 'red', 'green', 'blue')\n",
    "def get_colors(cmap):\n",
    "    if hasattr(cmap, 'colors'):\n",
    "        return [color[:3] for color in cmap.colors]\n",
    "\n",
    "    colors = []\n",
    "    for i in range(cmap.N):\n",
    "        colors.append(tuple([cmap(i)[0], cmap(i)[1], cmap(i)[2]]))\n",
    "    return colors\n",
    "\n",
    "for cmap_category in MplCategorizedColormaps:\n",
    "    for cmap_name in cmap_category.value:\n",
    "        cmap = plt.get_cmap(cmap_name)\n",
    "        for n_obs, color in enumerate(get_colors(cmap)):\n",
    "            red, green, blue = color[:3]\n",
    "            colormaps.append(tuple([cmap.name, n_obs + 1, red, green, blue]))\n",
    "    \n",
    "    write_data('colormaps.csv', colormaps, colormaps_column_names)\n"
   ],
   "outputs": [],
   "metadata": {}
  },
  {
   "cell_type": "code",
   "execution_count": 24,
   "source": [
    "namedcolors = []\n",
    "namedcolors_column_names = ('color_name', 'red', 'green', 'blue')\n",
    "\n",
    "for cname, hexcolor in colors.cnames.items():\n",
    "    namedcolors.append(tuple([cname] + list(colors.hex2color(hexcolor))))\n",
    "\n",
    "write_data('namedcolors.csv', namedcolors, namedcolors_column_names)\n"
   ],
   "outputs": [],
   "metadata": {}
  },
  {
   "cell_type": "code",
   "execution_count": null,
   "source": [],
   "outputs": [],
   "metadata": {}
  }
 ],
 "metadata": {
  "orig_nbformat": 4,
  "language_info": {
   "name": "python",
   "version": "3.9.6",
   "mimetype": "text/x-python",
   "codemirror_mode": {
    "name": "ipython",
    "version": 3
   },
   "pygments_lexer": "ipython3",
   "nbconvert_exporter": "python",
   "file_extension": ".py"
  },
  "kernelspec": {
   "name": "python3",
   "display_name": "Python 3.9.6 64-bit ('ColorBrainsApi': conda)"
  },
  "interpreter": {
   "hash": "a1daba34496f7f8bd85484398383106ad9d5f34bc49245fd639ceaa92af82736"
  }
 },
 "nbformat": 4,
 "nbformat_minor": 2
}